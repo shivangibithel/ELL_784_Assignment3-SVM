{
  "nbformat": 4,
  "nbformat_minor": 0,
  "metadata": {
    "colab": {
      "name": "SVM3.ipynb",
      "provenance": [],
      "collapsed_sections": [
        "9kF_gxDz6bMp",
        "NpusbOJB4qxM"
      ],
      "include_colab_link": true
    },
    "kernelspec": {
      "name": "python3",
      "display_name": "Python 3"
    },
    "language_info": {
      "name": "python"
    }
  },
  "cells": [
    {
      "cell_type": "markdown",
      "metadata": {
        "id": "view-in-github",
        "colab_type": "text"
      },
      "source": [
        "<a href=\"https://colab.research.google.com/github/shivangibithel/Assignment3-SVM/blob/main/SVM3.ipynb\" target=\"_parent\"><img src=\"https://colab.research.google.com/assets/colab-badge.svg\" alt=\"Open In Colab\"/></a>"
      ]
    },
    {
      "cell_type": "code",
      "metadata": {
        "id": "39iLYYvhrc_l"
      },
      "source": [
        "import csv\n",
        "import pandas as pd\n",
        "import matplotlib.pyplot as plt\n",
        "import numpy as np\n",
        "from sklearn.decomposition import PCA\n",
        "from sklearn.manifold import TSNE\n",
        "from sklearn.metrics import confusion_matrix\n",
        "from sklearn.model_selection import KFold\n",
        "from sklearn.model_selection import train_test_split\n",
        "from sklearn.preprocessing import StandardScaler\n",
        "from sklearn.svm import SVC"
      ],
      "execution_count": null,
      "outputs": []
    },
    {
      "cell_type": "markdown",
      "metadata": {
        "id": "9kF_gxDz6bMp"
      },
      "source": [
        "# Read Data"
      ]
    },
    {
      "cell_type": "code",
      "metadata": {
        "id": "D4jclezqzCxM"
      },
      "source": [
        "def read_data(filename, x, y):\n",
        "    row_num = 0\n",
        "    with open(filename, 'r') as f:\n",
        "        reader = csv.reader(f, delimiter=' ')\n",
        "        for row in reader:\n",
        "            k = len(row)\n",
        "            for strings in range(k):\n",
        "              if strings == 0:\n",
        "                  y[row_num][0] = int(row[strings])\n",
        "              else:\n",
        "                for i in range(1,9):\n",
        "                  if (row[strings])[0] == str(i):\n",
        "                    temp_string = (row[strings])[2:]\n",
        "                    temp_float = float(temp_string)\n",
        "                    x[row_num][i-1] = temp_float\n",
        "            row_num = row_num + 1\n",
        "\n",
        "    return x, y"
      ],
      "execution_count": null,
      "outputs": []
    },
    {
      "cell_type": "code",
      "metadata": {
        "colab": {
          "base_uri": "https://localhost:8080/"
        },
        "id": "hAye46bgytRF",
        "outputId": "8f27d433-2983-469e-cd17-9b3d3656568c"
      },
      "source": [
        "df = pd.read_csv(\"RNA_train_data.txt\", sep= \" \",header=None)\n",
        "count = len(df)\n",
        "print('No of Records = ', count)\n",
        "x = np.zeros((count, 8))\n",
        "    # 8 features per record\n",
        "y = np.zeros((count, 1))\n",
        "    # 1 label per record\n",
        "x, y = read_data('RNA_train_data.txt', x, y)\n",
        "np.savetxt('train_data.txt',x)\n",
        "np.savetxt('train_label.txt',y)\n",
        "print(y)\n",
        "x[25] # verifies that reading lesser data correctly "
      ],
      "execution_count": null,
      "outputs": [
        {
          "output_type": "stream",
          "text": [
            "No of Records =  2000\n",
            "[[ 1.]\n",
            " [-1.]\n",
            " [-1.]\n",
            " ...\n",
            " [-1.]\n",
            " [-1.]\n",
            " [ 1.]]\n"
          ],
          "name": "stdout"
        },
        {
          "output_type": "execute_result",
          "data": {
            "text/plain": [
              "array([0.901198, 0.908975, 0.131083, 0.      , 1.      , 0.225958,\n",
              "       0.381718, 0.677109])"
            ]
          },
          "metadata": {
            "tags": []
          },
          "execution_count": 151
        }
      ]
    },
    {
      "cell_type": "code",
      "metadata": {
        "colab": {
          "base_uri": "https://localhost:8080/"
        },
        "id": "P_sqC9Im33Nj",
        "outputId": "77234cd7-b698-475d-991e-ad9ef3075230"
      },
      "source": [
        "X_train, X_valid, y_train, y_valid = train_test_split(x, y, test_size=0.50, random_state=0)\n",
        "X_train"
      ],
      "execution_count": null,
      "outputs": [
        {
          "output_type": "execute_result",
          "data": {
            "text/plain": [
              "array([[0.837516, 0.882066, 0.300114, ..., 0.283122, 0.251447, 0.755608],\n",
              "       [0.874469, 0.364596, 0.128644, ..., 0.12649 , 0.348498, 0.691458],\n",
              "       [0.75553 , 0.191855, 0.354287, ..., 0.218552, 0.259772, 0.71241 ],\n",
              "       ...,\n",
              "       [0.961419, 0.882066, 0.202733, ..., 0.259316, 0.337685, 0.693646],\n",
              "       [0.860096, 0.882066, 0.339693, ..., 0.211648, 0.222679, 0.817465],\n",
              "       [0.842522, 0.191855, 0.389589, ..., 0.159685, 0.388361, 0.691458]])"
            ]
          },
          "metadata": {
            "tags": []
          },
          "execution_count": 152
        }
      ]
    },
    {
      "cell_type": "code",
      "metadata": {
        "id": "7z-FxR4Y3_XI"
      },
      "source": [
        "df = pd.read_csv(\"RNA_test_data.txt\", sep= \" \",header=None)    \n",
        "count_test = len(df)\n",
        "X_test = np.zeros((count_test, 8))\n",
        "# 8 features per record\n",
        "y_test = np.zeros((count_test, 1))\n",
        "X_test, y_test = read_data('RNA_test_data.txt', X_test, y_test)\n",
        "np.savetxt('test_data.txt',X_test)\n",
        "np.savetxt('test_label.txt',y_test)"
      ],
      "execution_count": null,
      "outputs": []
    },
    {
      "cell_type": "code",
      "metadata": {
        "id": "dUIf8QnLtx47"
      },
      "source": [
        "# Feature Scaling\n",
        "sc = StandardScaler()\n",
        "X_train = sc.fit_transform(X_train)\n",
        "X_valid = sc.transform(X_valid)"
      ],
      "execution_count": null,
      "outputs": []
    },
    {
      "cell_type": "markdown",
      "metadata": {
        "id": "NpusbOJB4qxM"
      },
      "source": [
        "# plotting\n"
      ]
    },
    {
      "cell_type": "code",
      "metadata": {
        "id": "JYNTRm1Xqo2x"
      },
      "source": [
        "def pca(n_components, x):\n",
        "    pca_ = PCA(n_components)\n",
        "    pca_result = pca_.fit_transform(x)\n",
        "    plt.scatter(pca_result[:, 0], pca_result[:, 1])"
      ],
      "execution_count": null,
      "outputs": []
    },
    {
      "cell_type": "code",
      "metadata": {
        "colab": {
          "base_uri": "https://localhost:8080/",
          "height": 265
        },
        "id": "BrPTcoZov3yh",
        "outputId": "3b516cb3-afc9-4414-d11f-58fd4970c90e"
      },
      "source": [
        "pca(2, x)"
      ],
      "execution_count": null,
      "outputs": [
        {
          "output_type": "display_data",
          "data": {
            "image/png": "[encoded data removed]",
            "text/plain": [
              "<Figure size 432x288 with 1 Axes>"
            ]
          },
          "metadata": {
            "tags": [],
            "needs_background": "light"
          }
        }
      ]
    },
    {
      "cell_type": "code",
      "metadata": {
        "colab": {
          "base_uri": "https://localhost:8080/",
          "height": 265
        },
        "id": "UGjE7_TPt8bd",
        "outputId": "9cd8a610-c8df-42bd-d146-bcd476584a88"
      },
      "source": [
        "#  x= x.to_numpy()\n",
        "pca(2, X_test)"
      ],
      "execution_count": null,
      "outputs": [
        {
          "output_type": "display_data",
          "data": {
            "image/png": "[encoded data removed]",
            "text/plain": [
              "<Figure size 432x288 with 1 Axes>"
            ]
          },
          "metadata": {
            "tags": [],
            "needs_background": "light"
          }
        }
      ]
    },
    {
      "cell_type": "code",
      "metadata": {
        "colab": {
          "base_uri": "https://localhost:8080/",
          "height": 282
        },
        "id": "XU3AFcyvq-aC",
        "outputId": "5c3b4bbf-ba4b-438c-9d6c-7cf66900901f"
      },
      "source": [
        "def tsne(n_components, x):\n",
        "    x_tsne = TSNE(n_components).fit_transform(x)\n",
        "    print(x_tsne.shape)\n",
        "    plt.scatter(x_tsne[:, 0], x_tsne[:, 1])\n",
        "    plt.show()\n",
        "    return x_tsne\n",
        "x_tsne = tsne(2, x)"
      ],
      "execution_count": null,
      "outputs": [
        {
          "output_type": "stream",
          "text": [
            "(2000, 2)\n"
          ],
          "name": "stdout"
        },
        {
          "output_type": "display_data",
          "data": {
            "image/png": "[encoded data removed]",
            "text/plain": [
              "<Figure size 432x288 with 1 Axes>"
            ]
          },
          "metadata": {
            "tags": [],
            "needs_background": "light"
          }
        }
      ]
    },
    {
      "cell_type": "code",
      "metadata": {
        "colab": {
          "base_uri": "https://localhost:8080/",
          "height": 265
        },
        "id": "MgxsXFmG5AQs",
        "outputId": "293d094f-ce0d-48d5-a179-0937db4b070e"
      },
      "source": [
        "n_components=2\n",
        "x_1 = np.zeros((0, n_components))\n",
        "x_2 = np.zeros((0, n_components))\n",
        "\n",
        "for i in range(y.shape[0]):\n",
        "        # print(i)\n",
        "  if y[i, 0] == 1:\n",
        "    x_1 = np.append(x_1, x_tsne[i, :])\n",
        "  else:\n",
        "    x_2 = np.append(x_2, x_tsne[i, :])\n",
        "\n",
        "    # reshape(-1,n_components) means that where we have -1, the dimension remains same. x_1.shape --> (same,n_components)\n",
        "x_1 = x_1.reshape(-1, n_components)\n",
        "x_2 = x_2.reshape(-1, n_components)\n",
        "\n",
        "plt.scatter(x_1[:, 0], x_1[:, 1], color='red')\n",
        "plt.scatter(x_2[:, 0], x_2[:, 1], color='blue')\n",
        "plt.show()"
      ],
      "execution_count": null,
      "outputs": [
        {
          "output_type": "display_data",
          "data": {
            "image/png": "[encoded data removed]",
            "text/plain": [
              "<Figure size 432x288 with 1 Axes>"
            ]
          },
          "metadata": {
            "tags": [],
            "needs_background": "light"
          }
        }
      ]
    },
    {
      "cell_type": "markdown",
      "metadata": {
        "id": "AICSWe3j6SOY"
      },
      "source": [
        "# Run SVM"
      ]
    },
    {
      "cell_type": "markdown",
      "metadata": {
        "id": "BWlmTDQEXlG0"
      },
      "source": [
        "first randomly choose 50% of the training set as the cross validation set. Next, divide the cross validation set into 5 subsets of equal size. Each subset is in turn used to validate the classifier trained on the remaining 4 subsets. So you will have 5 trained SVMs and 5 validation subsets. The cross validation accuracy is average accuracy over the 5 validation subsets. (Do not use the built-in cross validation option in LIBSVM). For both C and \\sigma try a number of different values and be sure to try all possible of pairs of values for C and \\sigma. Show a matrix of your cross validation results, where the entry (i, j) of the matrix corresponds to the classification accuracy on the cross validation set with ith value of C and j th value of \\sigma. \n"
      ]
    },
    {
      "cell_type": "code",
      "metadata": {
        "id": "GeWSyYRB5kYo"
      },
      "source": [
        "def svm(C, X_train, y_train, X_valid, y_valid):\n",
        "    classifier = SVC(C=C, kernel='linear', random_state=0)\n",
        "    classifier.fit(X_train, y_train.ravel())\n",
        "    # print(classifier.coef_)\n",
        "    # print(classifier.intercept_)\n",
        "\n",
        "    # Predicting the Test set results(TESTING)\n",
        "    y_pred_valid = classifier.predict(X_valid)\n",
        "\n",
        "    # Performance(Confusion Matrix and Efficiency)\n",
        "    cm = confusion_matrix(y_valid, y_pred_valid)\n",
        "    print(\"confusion_matrix:\\n\", cm)\n",
        "\n",
        "    Accuracy = (cm[0, 0] + cm[1, 1]) / (y_valid.size)\n",
        "    print(Accuracy)\n",
        "\n",
        "\n",
        "def optimize_linearK():\n",
        "    i, max_acc, opt_C, opt_gamma = (0,) * 4\n",
        "    # C_2d_range = np.logspace(-2, 10, 13)\n",
        "    # C_2d_range = np.arange(0.01, 100, 0.03)\n",
        "    C_2d_range = [1e-3, 1e-2, 1e-1, 1, 10, 1e2]\n",
        "    acc_array = np.zeros((len(C_2d_range), 1))\n",
        "    c_array = np.zeros((len(C_2d_range), 1))\n",
        "\n",
        "    for C in C_2d_range:\n",
        "        classifier = SVC(C=C, kernel='linear', random_state=0)\n",
        "        classifier.fit(X_train, y_train.ravel())\n",
        "        y_pred_valid = classifier.predict(X_valid)\n",
        "        cm = confusion_matrix(y_valid, y_pred_valid)\n",
        "        Accuracy = (cm[0, 0] + cm[1, 1]) / (y_valid.size)\n",
        "        # print (Accuracy)\n",
        "        acc_array[i, 0] = Accuracy * 100\n",
        "        c_array[i, 0] = C\n",
        "        if Accuracy > max_acc:\n",
        "            max_acc = Accuracy\n",
        "            opt_C = C\n",
        "        i = i + 1\n",
        "\n",
        "    print(\"Maximum Accuracy : \", max_acc)\n",
        "    print(\"Optimal Value of C is : \", opt_C)\n",
        "\n",
        "    plt.plot(acc_array)\n",
        "    plt.show()\n",
        "    return opt_C"
      ],
      "execution_count": null,
      "outputs": []
    },
    {
      "cell_type": "code",
      "metadata": {
        "colab": {
          "base_uri": "https://localhost:8080/",
          "height": 367
        },
        "id": "6NEzrCt255xj",
        "outputId": "6ebf8309-1212-4931-fe7d-1aef1ea7ca10"
      },
      "source": [
        "opt_C = optimize_linearK()\n",
        "svm(opt_C, X_train, y_train, X_valid, y_valid)"
      ],
      "execution_count": null,
      "outputs": [
        {
          "output_type": "stream",
          "text": [
            "Maximum Accuracy :  0.948\n",
            "Optimal Value of C is :  0.1\n"
          ],
          "name": "stdout"
        },
        {
          "output_type": "display_data",
          "data": {
            "image/png": "[encoded data removed]",
            "text/plain": [
              "<Figure size 432x288 with 1 Axes>"
            ]
          },
          "metadata": {
            "tags": [],
            "needs_background": "light"
          }
        },
        {
          "output_type": "stream",
          "text": [
            "confusion_matrix:\n",
            " [[647  34]\n",
            " [ 18 301]]\n",
            "0.948\n"
          ],
          "name": "stdout"
        }
      ]
    },
    {
      "cell_type": "code",
      "metadata": {
        "id": "H56vw5Op-E2g"
      },
      "source": [
        "def optimize_rbf():\n",
        "    C_2d_range = [1, 10, 50, 100, 150]\n",
        "    gamma_2d_range = [1e-2, 1e-1, 1, 1e1, 1e+2]\n",
        "\n",
        "    m1 = len(C_2d_range)\n",
        "\n",
        "    acc_mat = np.zeros((m1, m1))\n",
        "    i, j, max_acc, opt_gamma = (0,) * 4\n",
        "\n",
        "    for C in C_2d_range:\n",
        "        j = 0\n",
        "        for gamma in gamma_2d_range:\n",
        "            Avg_Acc = 0\n",
        "            kf = KFold(n_splits=5, random_state=None, shuffle=False)\n",
        "            for train_index, test_index in kf.split(x):\n",
        "                X_train, X_valid = x[train_index], x[test_index]\n",
        "                y_train, y_valid = y[train_index], y[test_index]\n",
        "\n",
        "                classifier = SVC(C=C, gamma=gamma, kernel='rbf', random_state=0)\n",
        "                classifier.fit(X_train, y_train.ravel())\n",
        "\n",
        "                y_pred_valid = classifier.predict(X_valid)\n",
        "\n",
        "                cm = confusion_matrix(y_valid, y_pred_valid)\n",
        "\n",
        "                Accuracy = (cm[0, 0] + cm[1, 1]) / (y_valid.size)\n",
        "\n",
        "                Avg_Acc = Avg_Acc + Accuracy\n",
        "            # why 100??\n",
        "            Avg_Acc = Avg_Acc / 5\n",
        "            print(\"Set Avg Acc = \", Avg_Acc * 100)\n",
        "            # print(i,\"   \",j)\n",
        "            acc_mat[i][j] = (Avg_Acc) * 100\n",
        "            if Avg_Acc * 100 > max_acc:\n",
        "                max_acc = acc_mat[i][j]\n",
        "                opt_C = C\n",
        "                opt_gamma = gamma\n",
        "            j = j + 1\n",
        "        i = i + 1\n",
        "    print(acc_mat)\n",
        "    print(\"Maximum Accuracy : \", max_acc)\n",
        "    print(\"Optimal Value of C is : \", opt_C)\n",
        "    print(\"Optimal Value of Gamma : \", opt_gamma)\n",
        "    print(\"Optimal Value of Sigma : \", np.sqrt(np.divide(1, 2 * opt_gamma)))\n",
        "\n",
        "    plt.plot(acc_mat[:, 0])\n",
        "    plt.show()\n",
        "    return opt_C, opt_gamma"
      ],
      "execution_count": null,
      "outputs": []
    },
    {
      "cell_type": "code",
      "metadata": {
        "colab": {
          "base_uri": "https://localhost:8080/",
          "height": 860
        },
        "id": "KIox1SDi5XvP",
        "outputId": "6d719401-d542-4d44-9a53-ab13f644e34e"
      },
      "source": [
        "# parameter tuning for RBF kernel (PART B)\n",
        "x=X_valid\n",
        "y=y_valid\n",
        "opt_C, opt_gamma = optimize_rbf()\n",
        "classifier = SVC(C=opt_C, gamma=opt_gamma, kernel='rbf', random_state=0)\n",
        "classifier.fit(X_train, y_train.ravel())\n",
        "print('Corresponding Optimal Intercept : ', classifier.intercept_)\n",
        "y_pred_test = classifier.predict(X_test)"
      ],
      "execution_count": null,
      "outputs": [
        {
          "output_type": "stream",
          "text": [
            "Set Avg Acc =  93.6\n",
            "Set Avg Acc =  93.5\n",
            "Set Avg Acc =  88.5\n",
            "Set Avg Acc =  69.19999999999999\n",
            "Set Avg Acc =  68.0\n",
            "Set Avg Acc =  94.5\n",
            "Set Avg Acc =  93.5\n",
            "Set Avg Acc =  87.6\n",
            "Set Avg Acc =  70.19999999999999\n",
            "Set Avg Acc =  68.0\n",
            "Set Avg Acc =  94.5\n",
            "Set Avg Acc =  93.30000000000001\n",
            "Set Avg Acc =  87.7\n",
            "Set Avg Acc =  70.19999999999999\n",
            "Set Avg Acc =  68.0\n",
            "Set Avg Acc =  94.39999999999999\n",
            "Set Avg Acc =  92.30000000000001\n",
            "Set Avg Acc =  87.89999999999999\n",
            "Set Avg Acc =  70.19999999999999\n",
            "Set Avg Acc =  68.0\n",
            "Set Avg Acc =  94.5\n",
            "Set Avg Acc =  91.90000000000002\n",
            "Set Avg Acc =  87.89999999999999\n",
            "Set Avg Acc =  70.19999999999999\n",
            "Set Avg Acc =  68.0\n",
            "[[93.6 93.5 88.5 69.2 68. ]\n",
            " [94.5 93.5 87.6 70.2 68. ]\n",
            " [94.5 93.3 87.7 70.2 68. ]\n",
            " [94.4 92.3 87.9 70.2 68. ]\n",
            " [94.5 91.9 87.9 70.2 68. ]]\n",
            "Maximum Accuracy :  94.5\n",
            "Optimal Value of C is :  10\n",
            "Optimal Value of Gamma :  0.01\n",
            "Optimal Value of Sigma :  7.0710678118654755\n"
          ],
          "name": "stdout"
        },
        {
          "output_type": "display_data",
          "data": {
            "image/png": "[encoded data removed]",
            "text/plain": [
              "<Figure size 432x288 with 1 Axes>"
            ]
          },
          "metadata": {
            "tags": [],
            "needs_background": "light"
          }
        },
        {
          "output_type": "stream",
          "text": [
            "Corresponding Optimal Intercept :  [1.67642077]\n"
          ],
          "name": "stdout"
        }
      ]
    },
    {
      "cell_type": "code",
      "metadata": {
        "id": "gP-JwGQk_nWC"
      },
      "source": [
        "# DataSet1 = pd.DataFrame(X_valid)\n",
        "# DataSet2 =pd.DataFrame(y_valid)\n",
        "# DataSet = pd.concat([DataSet1, DataSet2],axis=1, ignore_index=True, sort=False)\n",
        "# DataSet.head(2)"
      ],
      "execution_count": null,
      "outputs": []
    },
    {
      "cell_type": "code",
      "metadata": {
        "colab": {
          "base_uri": "https://localhost:8080/",
          "height": 860
        },
        "id": "Ff2wMZ96-KRl",
        "outputId": "e328cd64-ea64-4eb2-8c15-f0e75a0c1e6e"
      },
      "source": [
        "import numpy as np\n",
        "import pandas as pd\n",
        "import matplotlib.pyplot as plt\n",
        "from sklearn.preprocessing import StandardScaler\n",
        "from sklearn.model_selection import train_test_split\n",
        "from sklearn.linear_model import LogisticRegression\n",
        "from sklearn.metrics import confusion_matrix\n",
        "\n",
        "# x_columns = np.r_[0:8]\n",
        "# X = DataSet.iloc[:, x_columns].values  # X feature vector\n",
        "X=pd.DataFrame(X_valid)\n",
        "C_2d_range = [1, 10, 50, 100, 150]\n",
        "gamma_2d_range = [1e-2, 1e-1, 1, 1e1, 1e+2]\n",
        "\n",
        "m1 = len(C_2d_range)\n",
        "\n",
        "acc_mat = np.zeros((m1, m1))\n",
        "q, p, max_acc, opt_gamma = 0,0,0,0\n",
        "\n",
        "for C in C_2d_range:\n",
        "  p = 0\n",
        "  for gamma in gamma_2d_range:\n",
        "    Avg_Acc = 0\n",
        "    k=5\n",
        "    ss = int(X.shape[0] / k)\n",
        "    for i in range(k):\n",
        "      # x_kfold_ss = k-fold subset(ss) form X data\n",
        "      # i * ss = start of index in loop\n",
        "      # (i+1) * ss = end of loop\n",
        "      #  ss is just length divided by k folds\n",
        "      x_kfold_test = DataSet.iloc[i * ss: (i + 1) * ss, x_columns].values  # Test subset\n",
        "      x_kfold_train = DataSet.iloc[np.r_[0: i * ss, (i+1) * ss: k * ss], x_columns].values  # Training subset (\n",
        "      # larger in size). It is combination of two subsets;\n",
        "      # 1) Previous to test set, starting from Zero (0: i * ss),\n",
        "      # 2) After test set till the end k ((i+1) * ss: k * ss)\n",
        "      y_kfold_test = DataSet.iloc[i * ss: (i + 1) * ss, len(DataSet.columns) - 1].values  # Test Y\n",
        "      y_kfold_train = DataSet.iloc[np.r_[0: i * ss, (i+1) * ss: k * ss], len(DataSet.columns) - 1].values  # Training Y\n",
        "      # print(x_kfold_test[1], y_kfold_test[1])  # Diagnostic Check if data is actually changing\n",
        "      # print(x_kfold_train.shape, x_kfold_test.shape)  # Diagnostic check shapes\n",
        "      classifier = SVC(C=C, gamma=gamma, kernel='rbf', random_state=0)\n",
        "      classifier.fit(x_kfold_train, y_kfold_train.ravel())\n",
        "      y_kfold_pred = classifier.predict(x_kfold_test)\n",
        "      cm = confusion_matrix(y_kfold_test, y_kfold_pred)\n",
        "      Accuracy = (cm[0, 0] + cm[1, 1]) / (y_kfold_test.size)\n",
        "      Avg_Acc = Avg_Acc + Accuracy\n",
        "    Avg_Acc = Avg_Acc / 5\n",
        "    print(\"Set Avg Acc = \", Avg_Acc * 100)\n",
        "    acc_mat[q][p] = (Avg_Acc) * 100\n",
        "    if Avg_Acc * 100 > max_acc:\n",
        "      max_acc = acc_mat[q][p]\n",
        "      opt_C = C\n",
        "      opt_gamma = gamma\n",
        "    p=p+1\n",
        "  q=q+1\n",
        "print(acc_mat)\n",
        "print(\"Maximum Accuracy : \", max_acc)\n",
        "print(\"Optimal Value of C is : \", opt_C)\n",
        "print(\"Optimal Value of Gamma : \", opt_gamma)\n",
        "print(\"Optimal Value of Sigma : \", np.sqrt(np.divide(1, 2 * opt_gamma)))\n",
        "# print(acc_mat)\n",
        "plt.plot(acc_mat[:, 0])\n",
        "plt.show()\n",
        "classifier = SVC(C=opt_C, gamma=opt_gamma, kernel='rbf', random_state=0)\n",
        "classifier.fit(X_train, y_train.ravel())\n",
        "print('Corresponding Optimal Intercept : ', classifier.intercept_)\n",
        "y_pred_test = classifier.predict(X_test)"
      ],
      "execution_count": null,
      "outputs": [
        {
          "output_type": "stream",
          "text": [
            "Set Avg Acc =  93.6\n",
            "Set Avg Acc =  93.5\n",
            "Set Avg Acc =  88.5\n",
            "Set Avg Acc =  69.19999999999999\n",
            "Set Avg Acc =  68.0\n",
            "Set Avg Acc =  94.5\n",
            "Set Avg Acc =  93.5\n",
            "Set Avg Acc =  87.6\n",
            "Set Avg Acc =  70.19999999999999\n",
            "Set Avg Acc =  68.0\n",
            "Set Avg Acc =  94.5\n",
            "Set Avg Acc =  93.30000000000001\n",
            "Set Avg Acc =  87.7\n",
            "Set Avg Acc =  70.19999999999999\n",
            "Set Avg Acc =  68.0\n",
            "Set Avg Acc =  94.39999999999999\n",
            "Set Avg Acc =  92.30000000000001\n",
            "Set Avg Acc =  87.89999999999999\n",
            "Set Avg Acc =  70.19999999999999\n",
            "Set Avg Acc =  68.0\n",
            "Set Avg Acc =  94.5\n",
            "Set Avg Acc =  91.90000000000002\n",
            "Set Avg Acc =  87.89999999999999\n",
            "Set Avg Acc =  70.19999999999999\n",
            "Set Avg Acc =  68.0\n",
            "[[93.6 93.5 88.5 69.2 68. ]\n",
            " [94.5 93.5 87.6 70.2 68. ]\n",
            " [94.5 93.3 87.7 70.2 68. ]\n",
            " [94.4 92.3 87.9 70.2 68. ]\n",
            " [94.5 91.9 87.9 70.2 68. ]]\n",
            "Maximum Accuracy :  94.5\n",
            "Optimal Value of C is :  10\n",
            "Optimal Value of Gamma :  0.01\n",
            "Optimal Value of Sigma :  7.0710678118654755\n"
          ],
          "name": "stdout"
        },
        {
          "output_type": "display_data",
          "data": {
            "image/png": "[encoded data removed]",
            "text/plain": [
              "<Figure size 432x288 with 1 Axes>"
            ]
          },
          "metadata": {
            "tags": [],
            "needs_background": "light"
          }
        },
        {
          "output_type": "stream",
          "text": [
            "Corresponding Optimal Intercept :  [1.67642077]\n"
          ],
          "name": "stdout"
        }
      ]
    }
  ]
}